{
 "cells": [
  {
   "attachments": {
    "ca915194-8b5b-4073-bcf9-208dc0a51a7e.png": {
     "image/png": "[encoded data removed]"
    }
   },
   "cell_type": "markdown",
   "id": "9577677e-92c4-40d1-9466-c0c1609e02c1",
   "metadata": {},
   "source": [
    "# RICE LEAF DISEASE DETECTION\n",
    "\n",
    "**AVULA BHUMIKA**\n",
    "\n",
    "Task 2: Model Development to classify disease\n",
    "\n",
    "![image.png](attachment:ca915194-8b5b-4073-bcf9-208dc0a51a7e.png)"
   ]
  },
  {
   "cell_type": "markdown",
   "id": "a3a88067-88bd-4b4e-8bd4-0d41472e1f4d",
   "metadata": {},
   "source": [
    "### Load Dependencies"
   ]
  },
  {
   "cell_type": "code",
   "execution_count": 3,
   "id": "d7623690-5463-4881-8028-ac92d7cff154",
   "metadata": {},
   "outputs": [
    {
     "name": "stdout",
     "output_type": "stream",
     "text": [
      "Collecting tensorflow\n",
      "  Downloading tensorflow-2.19.0-cp312-cp312-win_amd64.whl.metadata (4.1 kB)\n",
      "Collecting absl-py>=1.0.0 (from tensorflow)\n",
      "  Downloading absl_py-2.2.2-py3-none-any.whl.metadata (2.6 kB)\n",
      "Collecting astunparse>=1.6.0 (from tensorflow)\n",
      "  Downloading astunparse-1.6.3-py2.py3-none-any.whl.metadata (4.4 kB)\n",
      "Collecting flatbuffers>=24.3.25 (from tensorflow)\n",
      "  Downloading flatbuffers-25.2.10-py2.py3-none-any.whl.metadata (875 bytes)\n",
      "Collecting gast!=0.5.0,!=0.5.1,!=0.5.2,>=0.2.1 (from tensorflow)\n",
      "  Downloading gast-0.6.0-py3-none-any.whl.metadata (1.3 kB)\n",
      "Collecting google-pasta>=0.1.1 (from tensorflow)\n",
      "  Downloading google_pasta-0.2.0-py3-none-any.whl.metadata (814 bytes)\n",
      "Collecting libclang>=13.0.0 (from tensorflow)\n",
      "  Downloading libclang-18.1.1-py2.py3-none-win_amd64.whl.metadata (5.3 kB)\n",
      "Collecting opt-einsum>=2.3.2 (from tensorflow)\n",
      "  Downloading opt_einsum-3.4.0-py3-none-any.whl.metadata (6.3 kB)\n",
      "Requirement already satisfied: packaging in c:\\users\\bhumi\\anaconda3\\lib\\site-packages (from tensorflow) (24.1)\n",
      "Requirement already satisfied: protobuf!=4.21.0,!=4.21.1,!=4.21.2,!=4.21.3,!=4.21.4,!=4.21.5,<6.0.0dev,>=3.20.3 in c:\\users\\bhumi\\anaconda3\\lib\\site-packages (from tensorflow) (4.25.3)\n",
      "Requirement already satisfied: requests<3,>=2.21.0 in c:\\users\\bhumi\\anaconda3\\lib\\site-packages (from tensorflow) (2.32.3)\n",
      "Requirement already satisfied: setuptools in c:\\users\\bhumi\\anaconda3\\lib\\site-packages (from tensorflow) (75.1.0)\n",
      "Requirement already satisfied: six>=1.12.0 in c:\\users\\bhumi\\anaconda3\\lib\\site-packages (from tensorflow) (1.16.0)\n",
      "Collecting termcolor>=1.1.0 (from tensorflow)\n",
      "  Downloading termcolor-3.1.0-py3-none-any.whl.metadata (6.4 kB)\n",
      "Requirement already satisfied: typing-extensions>=3.6.6 in c:\\users\\bhumi\\anaconda3\\lib\\site-packages (from tensorflow) (4.11.0)\n",
      "Requirement already satisfied: wrapt>=1.11.0 in c:\\users\\bhumi\\anaconda3\\lib\\site-packages (from tensorflow) (1.14.1)\n",
      "Collecting grpcio<2.0,>=1.24.3 (from tensorflow)\n",
      "  Downloading grpcio-1.71.0-cp312-cp312-win_amd64.whl.metadata (4.0 kB)\n",
      "Collecting tensorboard~=2.19.0 (from tensorflow)\n",
      "  Downloading tensorboard-2.19.0-py3-none-any.whl.metadata (1.8 kB)\n",
      "Collecting keras>=3.5.0 (from tensorflow)\n",
      "  Downloading keras-3.9.2-py3-none-any.whl.metadata (6.1 kB)\n",
      "Requirement already satisfied: numpy<2.2.0,>=1.26.0 in c:\\users\\bhumi\\anaconda3\\lib\\site-packages (from tensorflow) (1.26.4)\n",
      "Requirement already satisfied: h5py>=3.11.0 in c:\\users\\bhumi\\anaconda3\\lib\\site-packages (from tensorflow) (3.11.0)\n",
      "Collecting ml-dtypes<1.0.0,>=0.5.1 (from tensorflow)\n",
      "  Downloading ml_dtypes-0.5.1-cp312-cp312-win_amd64.whl.metadata (22 kB)\n",
      "Requirement already satisfied: wheel<1.0,>=0.23.0 in c:\\users\\bhumi\\anaconda3\\lib\\site-packages (from astunparse>=1.6.0->tensorflow) (0.44.0)\n",
      "Requirement already satisfied: rich in c:\\users\\bhumi\\anaconda3\\lib\\site-packages (from keras>=3.5.0->tensorflow) (13.7.1)\n",
      "Collecting namex (from keras>=3.5.0->tensorflow)\n",
      "  Downloading namex-0.0.9-py3-none-any.whl.metadata (322 bytes)\n",
      "Collecting optree (from keras>=3.5.0->tensorflow)\n",
      "  Downloading optree-0.15.0-cp312-cp312-win_amd64.whl.metadata (49 kB)\n",
      "Requirement already satisfied: charset-normalizer<4,>=2 in c:\\users\\bhumi\\anaconda3\\lib\\site-packages (from requests<3,>=2.21.0->tensorflow) (3.3.2)\n",
      "Requirement already satisfied: idna<4,>=2.5 in c:\\users\\bhumi\\anaconda3\\lib\\site-packages (from requests<3,>=2.21.0->tensorflow) (3.7)\n",
      "Requirement already satisfied: urllib3<3,>=1.21.1 in c:\\users\\bhumi\\anaconda3\\lib\\site-packages (from requests<3,>=2.21.0->tensorflow) (2.2.3)\n",
      "Requirement already satisfied: certifi>=2017.4.17 in c:\\users\\bhumi\\anaconda3\\lib\\site-packages (from requests<3,>=2.21.0->tensorflow) (2024.8.30)\n",
      "Requirement already satisfied: markdown>=2.6.8 in c:\\users\\bhumi\\anaconda3\\lib\\site-packages (from tensorboard~=2.19.0->tensorflow) (3.4.1)\n",
      "Collecting tensorboard-data-server<0.8.0,>=0.7.0 (from tensorboard~=2.19.0->tensorflow)\n",
      "  Downloading tensorboard_data_server-0.7.2-py3-none-any.whl.metadata (1.1 kB)\n",
      "Requirement already satisfied: werkzeug>=1.0.1 in c:\\users\\bhumi\\anaconda3\\lib\\site-packages (from tensorboard~=2.19.0->tensorflow) (3.0.3)\n",
      "Requirement already satisfied: MarkupSafe>=2.1.1 in c:\\users\\bhumi\\anaconda3\\lib\\site-packages (from werkzeug>=1.0.1->tensorboard~=2.19.0->tensorflow) (2.1.3)\n",
      "Requirement already satisfied: markdown-it-py>=2.2.0 in c:\\users\\bhumi\\anaconda3\\lib\\site-packages (from rich->keras>=3.5.0->tensorflow) (2.2.0)\n",
      "Requirement already satisfied: pygments<3.0.0,>=2.13.0 in c:\\users\\bhumi\\anaconda3\\lib\\site-packages (from rich->keras>=3.5.0->tensorflow) (2.15.1)\n",
      "Requirement already satisfied: mdurl~=0.1 in c:\\users\\bhumi\\anaconda3\\lib\\site-packages (from markdown-it-py>=2.2.0->rich->keras>=3.5.0->tensorflow) (0.1.0)\n",
      "Downloading tensorflow-2.19.0-cp312-cp312-win_amd64.whl (376.0 MB)\n",
      "   ---------------------------------------- 0.0/376.0 MB ? eta -:--:--\n",
      "    --------------------------------------- 5.5/376.0 MB 25.7 MB/s eta 0:00:15\n",
      "   - -------------------------------------- 10.5/376.0 MB 25.1 MB/s eta 0:00:15\n",
      "   - -------------------------------------- 14.7/376.0 MB 24.3 MB/s eta 0:00:15\n",
      "   -- ------------------------------------- 19.9/376.0 MB 23.3 MB/s eta 0:00:16\n",
      "   -- ------------------------------------- 25.2/376.0 MB 23.4 MB/s eta 0:00:15\n",
      "   --- ------------------------------------ 30.4/376.0 MB 23.5 MB/s eta 0:00:15\n",
      "   --- ------------------------------------ 35.7/376.0 MB 23.6 MB/s eta 0:00:15\n",
      "   ---- ----------------------------------- 40.4/376.0 MB 23.5 MB/s eta 0:00:15\n",
      "   ---- ----------------------------------- 45.9/376.0 MB 23.7 MB/s eta 0:00:14\n",
      "   ----- ---------------------------------- 50.9/376.0 MB 23.6 MB/s eta 0:00:14\n",
      "   ----- ---------------------------------- 56.1/376.0 MB 23.7 MB/s eta 0:00:14\n",
      "   ------ --------------------------------- 61.3/376.0 MB 23.7 MB/s eta 0:00:14\n",
      "   ------- -------------------------------- 66.6/376.0 MB 23.7 MB/s eta 0:00:14\n",
      "   ------- -------------------------------- 71.3/376.0 MB 23.7 MB/s eta 0:00:13\n",
      "   -------- ------------------------------- 76.5/376.0 MB 23.7 MB/s eta 0:00:13\n",
      "   -------- ------------------------------- 81.8/376.0 MB 23.7 MB/s eta 0:00:13\n",
      "   --------- ------------------------------ 86.8/376.0 MB 23.8 MB/s eta 0:00:13\n",
      "   --------- ------------------------------ 92.0/376.0 MB 23.8 MB/s eta 0:00:12\n",
      "   ---------- ----------------------------- 97.3/376.0 MB 23.7 MB/s eta 0:00:12\n",
      "   ---------- ---------------------------- 102.5/376.0 MB 23.8 MB/s eta 0:00:12\n",
      "   ----------- --------------------------- 107.7/376.0 MB 23.8 MB/s eta 0:00:12\n",
      "   ----------- --------------------------- 113.0/376.0 MB 23.8 MB/s eta 0:00:12\n",
      "   ------------ -------------------------- 118.0/376.0 MB 23.8 MB/s eta 0:00:11\n",
      "   ------------ -------------------------- 123.2/376.0 MB 23.8 MB/s eta 0:00:11\n",
      "   ------------- ------------------------- 128.5/376.0 MB 23.8 MB/s eta 0:00:11\n",
      "   ------------- ------------------------- 133.7/376.0 MB 23.8 MB/s eta 0:00:11\n",
      "   -------------- ------------------------ 138.7/376.0 MB 23.7 MB/s eta 0:00:10\n",
      "   -------------- ------------------------ 143.9/376.0 MB 23.8 MB/s eta 0:00:10\n",
      "   --------------- ----------------------- 148.9/376.0 MB 23.8 MB/s eta 0:00:10\n",
      "   --------------- ----------------------- 154.1/376.0 MB 23.8 MB/s eta 0:00:10\n",
      "   ---------------- ---------------------- 159.1/376.0 MB 23.8 MB/s eta 0:00:10\n",
      "   ---------------- ---------------------- 163.6/376.0 MB 23.8 MB/s eta 0:00:09\n",
      "   ----------------- --------------------- 168.6/376.0 MB 23.6 MB/s eta 0:00:09\n",
      "   ------------------ -------------------- 173.8/376.0 MB 23.6 MB/s eta 0:00:09\n",
      "   ------------------ -------------------- 179.0/376.0 MB 23.7 MB/s eta 0:00:09\n",
      "   ------------------- ------------------- 184.0/376.0 MB 23.7 MB/s eta 0:00:09\n",
      "   ------------------- ------------------- 189.3/376.0 MB 23.7 MB/s eta 0:00:08\n",
      "   -------------------- ------------------ 194.8/376.0 MB 23.7 MB/s eta 0:00:08\n",
      "   -------------------- ------------------ 199.8/376.0 MB 23.6 MB/s eta 0:00:08\n",
      "   --------------------- ----------------- 204.7/376.0 MB 23.7 MB/s eta 0:00:08\n",
      "   --------------------- ----------------- 210.2/376.0 MB 23.7 MB/s eta 0:00:07\n",
      "   ---------------------- ---------------- 215.2/376.0 MB 23.7 MB/s eta 0:00:07\n",
      "   ---------------------- ---------------- 220.5/376.0 MB 23.7 MB/s eta 0:00:07\n",
      "   ----------------------- --------------- 225.7/376.0 MB 23.7 MB/s eta 0:00:07\n",
      "   ----------------------- --------------- 230.9/376.0 MB 23.7 MB/s eta 0:00:07\n",
      "   ------------------------ -------------- 236.2/376.0 MB 23.7 MB/s eta 0:00:06\n",
      "   ------------------------- ------------- 241.4/376.0 MB 23.7 MB/s eta 0:00:06\n",
      "   ------------------------- ------------- 246.7/376.0 MB 23.8 MB/s eta 0:00:06\n",
      "   -------------------------- ------------ 251.9/376.0 MB 23.8 MB/s eta 0:00:06\n",
      "   -------------------------- ------------ 257.2/376.0 MB 23.8 MB/s eta 0:00:06\n",
      "   --------------------------- ----------- 262.7/376.0 MB 23.8 MB/s eta 0:00:05\n",
      "   --------------------------- ----------- 267.9/376.0 MB 23.7 MB/s eta 0:00:05\n",
      "   ---------------------------- ---------- 273.2/376.0 MB 23.7 MB/s eta 0:00:05\n",
      "   ---------------------------- ---------- 278.1/376.0 MB 23.8 MB/s eta 0:00:05\n",
      "   ----------------------------- --------- 283.4/376.0 MB 23.8 MB/s eta 0:00:04\n",
      "   ----------------------------- --------- 288.6/376.0 MB 23.8 MB/s eta 0:00:04\n",
      "   ------------------------------ -------- 293.9/376.0 MB 23.8 MB/s eta 0:00:04\n",
      "   ------------------------------- ------- 299.1/376.0 MB 23.8 MB/s eta 0:00:04\n",
      "   ------------------------------- ------- 304.1/376.0 MB 23.8 MB/s eta 0:00:04\n",
      "   -------------------------------- ------ 309.6/376.0 MB 23.8 MB/s eta 0:00:03\n",
      "   -------------------------------- ------ 314.6/376.0 MB 23.8 MB/s eta 0:00:03\n",
      "   --------------------------------- ----- 321.4/376.0 MB 23.7 MB/s eta 0:00:03\n",
      "   --------------------------------- ----- 326.6/376.0 MB 23.7 MB/s eta 0:00:03\n",
      "   ---------------------------------- ---- 331.9/376.0 MB 23.7 MB/s eta 0:00:02\n",
      "   ---------------------------------- ---- 337.1/376.0 MB 23.7 MB/s eta 0:00:02\n",
      "   ----------------------------------- --- 342.1/376.0 MB 23.8 MB/s eta 0:00:02\n",
      "   ------------------------------------ -- 347.3/376.0 MB 23.8 MB/s eta 0:00:02\n",
      "   ------------------------------------ -- 352.6/376.0 MB 23.8 MB/s eta 0:00:01\n",
      "   ------------------------------------- - 357.8/376.0 MB 23.8 MB/s eta 0:00:01\n",
      "   ------------------------------------- - 362.8/376.0 MB 23.8 MB/s eta 0:00:01\n",
      "   --------------------------------------  368.1/376.0 MB 23.8 MB/s eta 0:00:01\n",
      "   --------------------------------------  373.3/376.0 MB 23.8 MB/s eta 0:00:01\n",
      "   --------------------------------------  375.9/376.0 MB 23.7 MB/s eta 0:00:01\n",
      "   --------------------------------------  375.9/376.0 MB 23.7 MB/s eta 0:00:01\n",
      "   --------------------------------------  375.9/376.0 MB 23.7 MB/s eta 0:00:01\n",
      "   --------------------------------------  375.9/376.0 MB 23.7 MB/s eta 0:00:01\n",
      "   --------------------------------------  375.9/376.0 MB 23.7 MB/s eta 0:00:01\n",
      "   --------------------------------------  375.9/376.0 MB 23.7 MB/s eta 0:00:01\n",
      "   --------------------------------------  375.9/376.0 MB 23.7 MB/s eta 0:00:01\n",
      "   --------------------------------------- 376.0/376.0 MB 21.0 MB/s eta 0:00:00\n",
      "Downloading absl_py-2.2.2-py3-none-any.whl (135 kB)\n",
      "Downloading astunparse-1.6.3-py2.py3-none-any.whl (12 kB)\n",
      "Downloading flatbuffers-25.2.10-py2.py3-none-any.whl (30 kB)\n",
      "Downloading gast-0.6.0-py3-none-any.whl (21 kB)\n",
      "Downloading google_pasta-0.2.0-py3-none-any.whl (57 kB)\n",
      "Downloading grpcio-1.71.0-cp312-cp312-win_amd64.whl (4.3 MB)\n",
      "   ---------------------------------------- 0.0/4.3 MB ? eta -:--:--\n",
      "   ---------------------------------------- 4.3/4.3 MB 23.3 MB/s eta 0:00:00\n",
      "Downloading keras-3.9.2-py3-none-any.whl (1.3 MB)\n",
      "   ---------------------------------------- 0.0/1.3 MB ? eta -:--:--\n",
      "   ---------------------------------------- 1.3/1.3 MB 23.0 MB/s eta 0:00:00\n",
      "Downloading libclang-18.1.1-py2.py3-none-win_amd64.whl (26.4 MB)\n",
      "   ---------------------------------------- 0.0/26.4 MB ? eta -:--:--\n",
      "   -------- ------------------------------- 5.5/26.4 MB 25.8 MB/s eta 0:00:01\n",
      "   ---------------- ----------------------- 10.7/26.4 MB 24.8 MB/s eta 0:00:01\n",
      "   ------------------------ --------------- 16.0/26.4 MB 24.5 MB/s eta 0:00:01\n",
      "   -------------------------------- ------- 21.2/26.4 MB 24.4 MB/s eta 0:00:01\n",
      "   ---------------------------------------  26.2/26.4 MB 24.4 MB/s eta 0:00:01\n",
      "   ---------------------------------------- 26.4/26.4 MB 21.7 MB/s eta 0:00:00\n",
      "Downloading ml_dtypes-0.5.1-cp312-cp312-win_amd64.whl (210 kB)\n",
      "Downloading opt_einsum-3.4.0-py3-none-any.whl (71 kB)\n",
      "Downloading tensorboard-2.19.0-py3-none-any.whl (5.5 MB)\n",
      "   ---------------------------------------- 0.0/5.5 MB ? eta -:--:--\n",
      "   -------------------------------------- - 5.2/5.5 MB 29.0 MB/s eta 0:00:01\n",
      "   ---------------------------------------- 5.5/5.5 MB 23.9 MB/s eta 0:00:00\n",
      "Downloading termcolor-3.1.0-py3-none-any.whl (7.7 kB)\n",
      "Downloading tensorboard_data_server-0.7.2-py3-none-any.whl (2.4 kB)\n",
      "Downloading namex-0.0.9-py3-none-any.whl (5.8 kB)\n",
      "Downloading optree-0.15.0-cp312-cp312-win_amd64.whl (307 kB)\n",
      "Installing collected packages: namex, libclang, flatbuffers, termcolor, tensorboard-data-server, optree, opt-einsum, ml-dtypes, grpcio, google-pasta, gast, astunparse, absl-py, tensorboard, keras, tensorflow\n",
      "Successfully installed absl-py-2.2.2 astunparse-1.6.3 flatbuffers-25.2.10 gast-0.6.0 google-pasta-0.2.0 grpcio-1.71.0 keras-3.9.2 libclang-18.1.1 ml-dtypes-0.5.1 namex-0.0.9 opt-einsum-3.4.0 optree-0.15.0 tensorboard-2.19.0 tensorboard-data-server-0.7.2 tensorflow-2.19.0 termcolor-3.1.0\n"
     ]
    },
    {
     "name": "stderr",
     "output_type": "stream",
     "text": [
      "WARNING: Ignoring invalid distribution ~andas (C:\\Users\\Bhumi\\anaconda3\\Lib\\site-packages)\n",
      "WARNING: Ignoring invalid distribution ~andas (C:\\Users\\Bhumi\\anaconda3\\Lib\\site-packages)\n",
      "WARNING: Ignoring invalid distribution ~andas (C:\\Users\\Bhumi\\anaconda3\\Lib\\site-packages)\n"
     ]
    }
   ],
   "source": [
    "!pip install tensorflow"
   ]
  },
  {
   "cell_type": "code",
   "execution_count": 23,
   "id": "0af08ef3-0ae5-4ff9-85af-cf172948181c",
   "metadata": {},
   "outputs": [],
   "source": [
    "import os\n",
    "import numpy as np\n",
    "import matplotlib.pyplot as plt\n",
    "from sklearn.metrics import classification_report, confusion_matrix\n",
    "import seaborn as sns\n",
    "import tensorflow as tf\n",
    "from tensorflow.keras.preprocessing.image import ImageDataGenerator\n",
    "from tensorflow.keras.models import Sequential\n",
    "from tensorflow.keras.layers import Conv2D, MaxPooling2D, Flatten, Dense, Dropout\n",
    "from tensorflow.keras.callbacks import EarlyStopping, ModelCheckpoint\n",
    "from warnings import filterwarnings\n",
    "filterwarnings('ignore')"
   ]
  },
  {
   "cell_type": "markdown",
   "id": "3b050d5d-987f-4036-ac63-e09142de4333",
   "metadata": {},
   "source": [
    "### Data Processing"
   ]
  },
  {
   "cell_type": "code",
   "execution_count": 26,
   "id": "23d927bd-b686-4f45-95c4-c000632e1b55",
   "metadata": {},
   "outputs": [
    {
     "name": "stdout",
     "output_type": "stream",
     "text": [
      "Filtered classes: ['Bacterial leaf blight', 'Brown spot', 'Leaf smut']\n"
     ]
    }
   ],
   "source": [
    "data_path = r\"C:\\Users\\Bhumi\\Downloads\\Capstone_D\\Rice Leaf Disease Detection\\Data\"  \n",
    "classes = sorted([d for d in os.listdir(data_path) if os.path.isdir(os.path.join(data_path, d)) and not d.startswith('.')])\n",
    "print(\"Filtered classes:\", classes)\n",
    "\n"
   ]
  },
  {
   "cell_type": "code",
   "execution_count": 28,
   "id": "aa13a8c0-a929-42b3-9a11-36eb0aa47344",
   "metadata": {},
   "outputs": [
    {
     "name": "stdout",
     "output_type": "stream",
     "text": [
      "Found 96 images belonging to 3 classes.\n",
      "Found 23 images belonging to 3 classes.\n"
     ]
    }
   ],
   "source": [
    "IMG_HEIGHT = 128\n",
    "IMG_WIDTH = 128\n",
    "BATCH_SIZE = 16\n",
    "SEED = 42\n",
    "\n",
    "base_path = \".\"\n",
    "train_dir = base_path  \n",
    "\n",
    "datagen = ImageDataGenerator(\n",
    "    rescale=1./255,\n",
    "    validation_split=0.2,\n",
    "    rotation_range=20,\n",
    "    zoom_range=0.1,\n",
    "    width_shift_range=0.1,\n",
    "    height_shift_range=0.1,\n",
    "    horizontal_flip=True\n",
    ")\n",
    "train_gen = datagen.flow_from_directory(\n",
    "    data_path,\n",
    "    target_size=(224, 224),\n",
    "    batch_size=16,\n",
    "    class_mode='categorical',\n",
    "    classes=classes, \n",
    "    subset='training',\n",
    "    shuffle=True\n",
    ")\n",
    "\n",
    "val_gen = datagen.flow_from_directory(\n",
    "    data_path,\n",
    "    target_size=(224, 224),\n",
    "    batch_size=16,\n",
    "    class_mode='categorical',\n",
    "    classes=classes,  \n",
    "    subset='validation',\n",
    "    shuffle=False\n",
    ")\n",
    "class_names = list(train_gen.class_indices.keys())\n"
   ]
  },
  {
   "cell_type": "markdown",
   "id": "d3b046bc-2b24-416f-a9a1-1ca8af026ac7",
   "metadata": {},
   "source": [
    "### CNN Model"
   ]
  },
  {
   "cell_type": "code",
   "execution_count": 31,
   "id": "48687fa1-565c-480e-8b67-0deca45091f0",
   "metadata": {},
   "outputs": [],
   "source": [
    "from tensorflow.keras.models import Sequential\n",
    "from tensorflow.keras.layers import Conv2D, MaxPooling2D, Flatten, Dense, Dropout\n",
    "\n",
    "model = Sequential([\n",
    "    Conv2D(32, (3,3), activation='relu', input_shape=(224,224,3)),\n",
    "    MaxPooling2D((2,2)),\n",
    "    Conv2D(64, (3,3), activation='relu'),\n",
    "    MaxPooling2D((2,2)),\n",
    "    Conv2D(128, (3,3), activation='relu'),\n",
    "    MaxPooling2D((2,2)),\n",
    "    Flatten(), \n",
    "    Dense(128, activation='relu'),\n",
    "    Dropout(0.5),\n",
    "    Dense(3, activation='softmax')\n",
    "])\n"
   ]
  },
  {
   "cell_type": "code",
   "execution_count": 37,
   "id": "a562c391-edd6-4fa8-bd51-bb12ebee68a3",
   "metadata": {},
   "outputs": [],
   "source": [
    "from tensorflow.keras.callbacks import ModelCheckpoint, EarlyStopping\n",
    "\n",
    "checkpoint = ModelCheckpoint(\n",
    "    'best_model.keras',           \n",
    "    monitor='val_accuracy',  \n",
    "    save_best_only=True,      \n",
    "    verbose=1\n",
    ")\n",
    "\n",
    "early_stop = EarlyStopping(\n",
    "    monitor='val_accuracy',   \n",
    "    patience=5,            \n",
    "    restore_best_weights=True,\n",
    "    verbose=1\n",
    ")"
   ]
  },
  {
   "cell_type": "code",
   "execution_count": 39,
   "id": "b9c6e1db-4a64-4840-a3df-cbb73ca95c1f",
   "metadata": {},
   "outputs": [
    {
     "name": "stdout",
     "output_type": "stream",
     "text": [
      "Epoch 1/20\n",
      "\u001b[1m6/6\u001b[0m \u001b[32m━━━━━━━━━━━━━━━━━━━━\u001b[0m\u001b[37m\u001b[0m \u001b[1m0s\u001b[0m 2s/step - accuracy: 0.3632 - loss: 1.3014\n",
      "Epoch 1: val_accuracy improved from -inf to 0.34783, saving model to best_model.keras\n",
      "\u001b[1m6/6\u001b[0m \u001b[32m━━━━━━━━━━━━━━━━━━━━\u001b[0m\u001b[37m\u001b[0m \u001b[1m17s\u001b[0m 3s/step - accuracy: 0.3634 - loss: 1.2929 - val_accuracy: 0.3478 - val_loss: 1.0650\n",
      "Epoch 2/20\n",
      "\u001b[1m6/6\u001b[0m \u001b[32m━━━━━━━━━━━━━━━━━━━━\u001b[0m\u001b[37m\u001b[0m \u001b[1m0s\u001b[0m 2s/step - accuracy: 0.3965 - loss: 1.2972\n",
      "Epoch 2: val_accuracy did not improve from 0.34783\n",
      "\u001b[1m6/6\u001b[0m \u001b[32m━━━━━━━━━━━━━━━━━━━━\u001b[0m\u001b[37m\u001b[0m \u001b[1m15s\u001b[0m 2s/step - accuracy: 0.3964 - loss: 1.2953 - val_accuracy: 0.3478 - val_loss: 1.0324\n",
      "Epoch 3/20\n",
      "\u001b[1m6/6\u001b[0m \u001b[32m━━━━━━━━━━━━━━━━━━━━\u001b[0m\u001b[37m\u001b[0m \u001b[1m0s\u001b[0m 2s/step - accuracy: 0.2007 - loss: 1.3953\n",
      "Epoch 3: val_accuracy improved from 0.34783 to 0.73913, saving model to best_model.keras\n",
      "\u001b[1m6/6\u001b[0m \u001b[32m━━━━━━━━━━━━━━━━━━━━\u001b[0m\u001b[37m\u001b[0m \u001b[1m15s\u001b[0m 3s/step - accuracy: 0.2048 - loss: 1.3823 - val_accuracy: 0.7391 - val_loss: 0.9636\n",
      "Epoch 4/20\n",
      "\u001b[1m6/6\u001b[0m \u001b[32m━━━━━━━━━━━━━━━━━━━━\u001b[0m\u001b[37m\u001b[0m \u001b[1m0s\u001b[0m 2s/step - accuracy: 0.3424 - loss: 1.2041\n",
      "Epoch 4: val_accuracy did not improve from 0.73913\n",
      "\u001b[1m6/6\u001b[0m \u001b[32m━━━━━━━━━━━━━━━━━━━━\u001b[0m\u001b[37m\u001b[0m \u001b[1m15s\u001b[0m 3s/step - accuracy: 0.3485 - loss: 1.1988 - val_accuracy: 0.5652 - val_loss: 0.9677\n",
      "Epoch 5/20\n",
      "\u001b[1m6/6\u001b[0m \u001b[32m━━━━━━━━━━━━━━━━━━━━\u001b[0m\u001b[37m\u001b[0m \u001b[1m0s\u001b[0m 2s/step - accuracy: 0.4345 - loss: 0.9901\n",
      "Epoch 5: val_accuracy did not improve from 0.73913\n",
      "\u001b[1m6/6\u001b[0m \u001b[32m━━━━━━━━━━━━━━━━━━━━\u001b[0m\u001b[37m\u001b[0m \u001b[1m15s\u001b[0m 3s/step - accuracy: 0.4394 - loss: 0.9892 - val_accuracy: 0.6957 - val_loss: 0.9250\n",
      "Epoch 6/20\n",
      "\u001b[1m6/6\u001b[0m \u001b[32m━━━━━━━━━━━━━━━━━━━━\u001b[0m\u001b[37m\u001b[0m \u001b[1m0s\u001b[0m 2s/step - accuracy: 0.4878 - loss: 1.0524\n",
      "Epoch 6: val_accuracy improved from 0.73913 to 0.78261, saving model to best_model.keras\n",
      "\u001b[1m6/6\u001b[0m \u001b[32m━━━━━━━━━━━━━━━━━━━━\u001b[0m\u001b[37m\u001b[0m \u001b[1m22s\u001b[0m 3s/step - accuracy: 0.4911 - loss: 1.0476 - val_accuracy: 0.7826 - val_loss: 0.8805\n",
      "Epoch 7/20\n",
      "\u001b[1m6/6\u001b[0m \u001b[32m━━━━━━━━━━━━━━━━━━━━\u001b[0m\u001b[37m\u001b[0m \u001b[1m0s\u001b[0m 3s/step - accuracy: 0.5491 - loss: 0.9941\n",
      "Epoch 7: val_accuracy did not improve from 0.78261\n",
      "\u001b[1m6/6\u001b[0m \u001b[32m━━━━━━━━━━━━━━━━━━━━\u001b[0m\u001b[37m\u001b[0m \u001b[1m23s\u001b[0m 4s/step - accuracy: 0.5496 - loss: 0.9971 - val_accuracy: 0.7826 - val_loss: 0.8384\n",
      "Epoch 8/20\n",
      "\u001b[1m6/6\u001b[0m \u001b[32m━━━━━━━━━━━━━━━━━━━━\u001b[0m\u001b[37m\u001b[0m \u001b[1m0s\u001b[0m 3s/step - accuracy: 0.5271 - loss: 0.9307\n",
      "Epoch 8: val_accuracy did not improve from 0.78261\n",
      "\u001b[1m6/6\u001b[0m \u001b[32m━━━━━━━━━━━━━━━━━━━━\u001b[0m\u001b[37m\u001b[0m \u001b[1m24s\u001b[0m 4s/step - accuracy: 0.5321 - loss: 0.9305 - val_accuracy: 0.7826 - val_loss: 0.8399\n",
      "Epoch 9/20\n",
      "\u001b[1m6/6\u001b[0m \u001b[32m━━━━━━━━━━━━━━━━━━━━\u001b[0m\u001b[37m\u001b[0m \u001b[1m0s\u001b[0m 3s/step - accuracy: 0.6153 - loss: 0.9036\n",
      "Epoch 9: val_accuracy did not improve from 0.78261\n",
      "\u001b[1m6/6\u001b[0m \u001b[32m━━━━━━━━━━━━━━━━━━━━\u001b[0m\u001b[37m\u001b[0m \u001b[1m25s\u001b[0m 4s/step - accuracy: 0.6167 - loss: 0.9038 - val_accuracy: 0.7391 - val_loss: 0.8169\n",
      "Epoch 10/20\n",
      "\u001b[1m6/6\u001b[0m \u001b[32m━━━━━━━━━━━━━━━━━━━━\u001b[0m\u001b[37m\u001b[0m \u001b[1m0s\u001b[0m 3s/step - accuracy: 0.6375 - loss: 0.8914\n",
      "Epoch 10: val_accuracy improved from 0.78261 to 0.82609, saving model to best_model.keras\n",
      "\u001b[1m6/6\u001b[0m \u001b[32m━━━━━━━━━━━━━━━━━━━━\u001b[0m\u001b[37m\u001b[0m \u001b[1m24s\u001b[0m 4s/step - accuracy: 0.6491 - loss: 0.8848 - val_accuracy: 0.8261 - val_loss: 0.7740\n",
      "Epoch 11/20\n",
      "\u001b[1m6/6\u001b[0m \u001b[32m━━━━━━━━━━━━━━━━━━━━\u001b[0m\u001b[37m\u001b[0m \u001b[1m0s\u001b[0m 3s/step - accuracy: 0.7101 - loss: 0.7993\n",
      "Epoch 11: val_accuracy did not improve from 0.82609\n",
      "\u001b[1m6/6\u001b[0m \u001b[32m━━━━━━━━━━━━━━━━━━━━\u001b[0m\u001b[37m\u001b[0m \u001b[1m24s\u001b[0m 4s/step - accuracy: 0.7083 - loss: 0.8032 - val_accuracy: 0.8261 - val_loss: 0.7671\n",
      "Epoch 12/20\n",
      "\u001b[1m6/6\u001b[0m \u001b[32m━━━━━━━━━━━━━━━━━━━━\u001b[0m\u001b[37m\u001b[0m \u001b[1m0s\u001b[0m 2s/step - accuracy: 0.6089 - loss: 0.8217\n",
      "Epoch 12: val_accuracy did not improve from 0.82609\n",
      "\u001b[1m6/6\u001b[0m \u001b[32m━━━━━━━━━━━━━━━━━━━━\u001b[0m\u001b[37m\u001b[0m \u001b[1m17s\u001b[0m 3s/step - accuracy: 0.6052 - loss: 0.8255 - val_accuracy: 0.7826 - val_loss: 0.7614\n",
      "Epoch 13/20\n",
      "\u001b[1m6/6\u001b[0m \u001b[32m━━━━━━━━━━━━━━━━━━━━\u001b[0m\u001b[37m\u001b[0m \u001b[1m0s\u001b[0m 2s/step - accuracy: 0.7215 - loss: 0.7813\n",
      "Epoch 13: val_accuracy did not improve from 0.82609\n",
      "\u001b[1m6/6\u001b[0m \u001b[32m━━━━━━━━━━━━━━━━━━━━\u001b[0m\u001b[37m\u001b[0m \u001b[1m16s\u001b[0m 3s/step - accuracy: 0.7226 - loss: 0.7790 - val_accuracy: 0.7391 - val_loss: 0.7395\n",
      "Epoch 14/20\n",
      "\u001b[1m6/6\u001b[0m \u001b[32m━━━━━━━━━━━━━━━━━━━━\u001b[0m\u001b[37m\u001b[0m \u001b[1m0s\u001b[0m 2s/step - accuracy: 0.6653 - loss: 0.7846\n",
      "Epoch 14: val_accuracy did not improve from 0.82609\n",
      "\u001b[1m6/6\u001b[0m \u001b[32m━━━━━━━━━━━━━━━━━━━━\u001b[0m\u001b[37m\u001b[0m \u001b[1m16s\u001b[0m 3s/step - accuracy: 0.6640 - loss: 0.7855 - val_accuracy: 0.8261 - val_loss: 0.7201\n",
      "Epoch 15/20\n",
      "\u001b[1m6/6\u001b[0m \u001b[32m━━━━━━━━━━━━━━━━━━━━\u001b[0m\u001b[37m\u001b[0m \u001b[1m0s\u001b[0m 2s/step - accuracy: 0.6682 - loss: 0.7752\n",
      "Epoch 15: val_accuracy did not improve from 0.82609\n",
      "\u001b[1m6/6\u001b[0m \u001b[32m━━━━━━━━━━━━━━━━━━━━\u001b[0m\u001b[37m\u001b[0m \u001b[1m16s\u001b[0m 3s/step - accuracy: 0.6799 - loss: 0.7687 - val_accuracy: 0.7391 - val_loss: 0.7356\n",
      "Epoch 15: early stopping\n",
      "Restoring model weights from the end of the best epoch: 10.\n"
     ]
    }
   ],
   "source": [
    "model.compile(\n",
    "    optimizer='adam',\n",
    "    loss='categorical_crossentropy', \n",
    "    metrics=['accuracy']\n",
    ")\n",
    "\n",
    "\n",
    "history = model.fit(\n",
    "    train_gen,\n",
    "    validation_data=val_gen,\n",
    "    epochs=20,\n",
    "    callbacks=[checkpoint, early_stop]\n",
    ")\n"
   ]
  },
  {
   "cell_type": "markdown",
   "id": "e633764c-5864-4393-81af-3cc5c6a20660",
   "metadata": {},
   "source": [
    "### Evaluation"
   ]
  },
  {
   "cell_type": "code",
   "execution_count": 41,
   "id": "897f6adf-72e0-4086-b711-b0014dd752d0",
   "metadata": {
    "scrolled": true
   },
   "outputs": [
    {
     "name": "stdout",
     "output_type": "stream",
     "text": [
      "\u001b[1m2/2\u001b[0m \u001b[32m━━━━━━━━━━━━━━━━━━━━\u001b[0m\u001b[37m\u001b[0m \u001b[1m4s\u001b[0m 1s/step\n",
      "                       precision    recall  f1-score   support\n",
      "\n",
      "Bacterial leaf blight       1.00      0.75      0.86         8\n",
      "           Brown spot       0.83      0.62      0.71         8\n",
      "            Leaf smut       0.64      1.00      0.78         7\n",
      "\n",
      "             accuracy                           0.78        23\n",
      "            macro avg       0.82      0.79      0.78        23\n",
      "         weighted avg       0.83      0.78      0.78        23\n",
      "\n"
     ]
    },
    {
     "data": {
      "image/png": "[encoded data removed]",
      "text/plain": [
       "<Figure size 640x480 with 2 Axes>"
      ]
     },
     "metadata": {},
     "output_type": "display_data"
    }
   ],
   "source": [
    "from sklearn.metrics import classification_report, confusion_matrix\n",
    "import numpy as np\n",
    "import seaborn as sns\n",
    "\n",
    "y_true = val_gen.classes\n",
    "y_pred_probs = model.predict(val_gen)\n",
    "y_pred = np.argmax(y_pred_probs, axis=1)\n",
    "\n",
    "print(classification_report(y_true, y_pred, target_names=val_gen.class_indices.keys()))\n",
    "\n",
    "cm = confusion_matrix(y_true, y_pred)\n",
    "sns.heatmap(cm, annot=True, fmt='d', cmap='Blues', xticklabels=val_gen.class_indices.keys(), yticklabels=val_gen.class_indices.keys())\n",
    "plt.xlabel('Predicted')\n",
    "plt.ylabel('True')\n",
    "plt.title('Confusion Matrix')\n",
    "plt.show()\n"
   ]
  },
  {
   "cell_type": "markdown",
   "id": "0a1bc94b-76fb-4eac-a29e-7f97b0cbd612",
   "metadata": {},
   "source": [
    "### VGG Net"
   ]
  },
  {
   "cell_type": "code",
   "execution_count": 43,
   "id": "7bed3bfe-0f60-4f8e-ac36-22578ddb29a2",
   "metadata": {},
   "outputs": [
    {
     "name": "stdout",
     "output_type": "stream",
     "text": [
      "Epoch 1/20\n",
      "\u001b[1m6/6\u001b[0m \u001b[32m━━━━━━━━━━━━━━━━━━━━\u001b[0m\u001b[37m\u001b[0m \u001b[1m0s\u001b[0m 2s/step - accuracy: 0.3220 - loss: 1.2584\n",
      "Epoch 1: val_accuracy improved from 0.82609 to 0.91304, saving model to best_model.keras\n",
      "\u001b[1m6/6\u001b[0m \u001b[32m━━━━━━━━━━━━━━━━━━━━\u001b[0m\u001b[37m\u001b[0m \u001b[1m18s\u001b[0m 3s/step - accuracy: 0.3237 - loss: 1.2583 - val_accuracy: 0.9130 - val_loss: 1.0084\n",
      "Epoch 2/20\n",
      "\u001b[1m6/6\u001b[0m \u001b[32m━━━━━━━━━━━━━━━━━━━━\u001b[0m\u001b[37m\u001b[0m \u001b[1m0s\u001b[0m 2s/step - accuracy: 0.2951 - loss: 1.2065\n",
      "Epoch 2: val_accuracy improved from 0.91304 to 0.95652, saving model to best_model.keras\n",
      "\u001b[1m6/6\u001b[0m \u001b[32m━━━━━━━━━━━━━━━━━━━━\u001b[0m\u001b[37m\u001b[0m \u001b[1m16s\u001b[0m 3s/step - accuracy: 0.2991 - loss: 1.2025 - val_accuracy: 0.9565 - val_loss: 0.9802\n",
      "Epoch 3/20\n",
      "\u001b[1m6/6\u001b[0m \u001b[32m━━━━━━━━━━━━━━━━━━━━\u001b[0m\u001b[37m\u001b[0m \u001b[1m0s\u001b[0m 3s/step - accuracy: 0.3856 - loss: 1.0641\n",
      "Epoch 3: val_accuracy did not improve from 0.95652\n",
      "\u001b[1m6/6\u001b[0m \u001b[32m━━━━━━━━━━━━━━━━━━━━\u001b[0m\u001b[37m\u001b[0m \u001b[1m27s\u001b[0m 4s/step - accuracy: 0.3841 - loss: 1.0656 - val_accuracy: 0.6522 - val_loss: 0.9639\n",
      "Epoch 4/20\n",
      "\u001b[1m6/6\u001b[0m \u001b[32m━━━━━━━━━━━━━━━━━━━━\u001b[0m\u001b[37m\u001b[0m \u001b[1m0s\u001b[0m 3s/step - accuracy: 0.4158 - loss: 1.1151\n",
      "Epoch 4: val_accuracy did not improve from 0.95652\n",
      "\u001b[1m6/6\u001b[0m \u001b[32m━━━━━━━━━━━━━━━━━━━━\u001b[0m\u001b[37m\u001b[0m \u001b[1m23s\u001b[0m 4s/step - accuracy: 0.4174 - loss: 1.1112 - val_accuracy: 0.7391 - val_loss: 0.9355\n",
      "Epoch 5/20\n",
      "\u001b[1m6/6\u001b[0m \u001b[32m━━━━━━━━━━━━━━━━━━━━\u001b[0m\u001b[37m\u001b[0m \u001b[1m0s\u001b[0m 3s/step - accuracy: 0.5031 - loss: 0.9888\n",
      "Epoch 5: val_accuracy did not improve from 0.95652\n",
      "\u001b[1m6/6\u001b[0m \u001b[32m━━━━━━━━━━━━━━━━━━━━\u001b[0m\u001b[37m\u001b[0m \u001b[1m24s\u001b[0m 4s/step - accuracy: 0.4908 - loss: 0.9976 - val_accuracy: 0.7391 - val_loss: 0.9325\n",
      "Epoch 6/20\n",
      "\u001b[1m6/6\u001b[0m \u001b[32m━━━━━━━━━━━━━━━━━━━━\u001b[0m\u001b[37m\u001b[0m \u001b[1m0s\u001b[0m 3s/step - accuracy: 0.4590 - loss: 1.0013\n",
      "Epoch 6: val_accuracy did not improve from 0.95652\n",
      "\u001b[1m6/6\u001b[0m \u001b[32m━━━━━━━━━━━━━━━━━━━━\u001b[0m\u001b[37m\u001b[0m \u001b[1m23s\u001b[0m 4s/step - accuracy: 0.4649 - loss: 0.9985 - val_accuracy: 0.9130 - val_loss: 0.8921\n",
      "Epoch 7/20\n",
      "\u001b[1m6/6\u001b[0m \u001b[32m━━━━━━━━━━━━━━━━━━━━\u001b[0m\u001b[37m\u001b[0m \u001b[1m0s\u001b[0m 3s/step - accuracy: 0.5804 - loss: 0.9853\n",
      "Epoch 7: val_accuracy did not improve from 0.95652\n",
      "\u001b[1m6/6\u001b[0m \u001b[32m━━━━━━━━━━━━━━━━━━━━\u001b[0m\u001b[37m\u001b[0m \u001b[1m24s\u001b[0m 4s/step - accuracy: 0.5763 - loss: 0.9857 - val_accuracy: 0.8261 - val_loss: 0.8838\n",
      "Epoch 7: early stopping\n",
      "Restoring model weights from the end of the best epoch: 2.\n"
     ]
    }
   ],
   "source": [
    "from tensorflow.keras.applications import VGG16\n",
    "from tensorflow.keras.layers import GlobalAveragePooling2D, Dense, Dropout\n",
    "from tensorflow.keras.models import Model\n",
    "\n",
    "base_model = VGG16(weights='imagenet', include_top=False, input_shape=(224, 224, 3))\n",
    "base_model.trainable = False \n",
    "\n",
    "x = base_model.output\n",
    "x = GlobalAveragePooling2D()(x) \n",
    "x = Dense(128, activation='relu')(x)\n",
    "x = Dropout(0.5)(x)\n",
    "outputs = Dense(3, activation='softmax')(x)  \n",
    "\n",
    "model = Model(inputs=base_model.input, outputs=outputs)\n",
    "\n",
    "model.compile(\n",
    "    optimizer='adam',\n",
    "    loss='categorical_crossentropy', \n",
    "    metrics=['accuracy']\n",
    ")\n",
    "\n",
    "\n",
    "history = model.fit(\n",
    "    train_gen,\n",
    "    validation_data=val_gen,\n",
    "    epochs=20,\n",
    "    callbacks=[checkpoint, early_stop]\n",
    ")\n"
   ]
  },
  {
   "cell_type": "code",
   "execution_count": 46,
   "id": "bf115146-c36c-47ad-9d73-4f5f6060616c",
   "metadata": {},
   "outputs": [
    {
     "name": "stdout",
     "output_type": "stream",
     "text": [
      "Epoch 1/20\n",
      "\u001b[1m6/6\u001b[0m \u001b[32m━━━━━━━━━━━━━━━━━━━━\u001b[0m\u001b[37m\u001b[0m \u001b[1m0s\u001b[0m 3s/step - accuracy: 0.3799 - loss: 1.0544\n",
      "Epoch 1: val_accuracy did not improve from 0.95652\n",
      "\u001b[1m6/6\u001b[0m \u001b[32m━━━━━━━━━━━━━━━━━━━━\u001b[0m\u001b[37m\u001b[0m \u001b[1m24s\u001b[0m 4s/step - accuracy: 0.3866 - loss: 1.0521 - val_accuracy: 0.7391 - val_loss: 0.9822\n",
      "Epoch 2/20\n",
      "\u001b[1m6/6\u001b[0m \u001b[32m━━━━━━━━━━━━━━━━━━━━\u001b[0m\u001b[37m\u001b[0m \u001b[1m0s\u001b[0m 3s/step - accuracy: 0.2948 - loss: 1.1506\n",
      "Epoch 2: val_accuracy did not improve from 0.95652\n",
      "\u001b[1m6/6\u001b[0m \u001b[32m━━━━━━━━━━━━━━━━━━━━\u001b[0m\u001b[37m\u001b[0m \u001b[1m24s\u001b[0m 4s/step - accuracy: 0.2988 - loss: 1.1474 - val_accuracy: 0.8696 - val_loss: 0.9466\n",
      "Epoch 3/20\n",
      "\u001b[1m6/6\u001b[0m \u001b[32m━━━━━━━━━━━━━━━━━━━━\u001b[0m\u001b[37m\u001b[0m \u001b[1m0s\u001b[0m 3s/step - accuracy: 0.4424 - loss: 1.0468\n",
      "Epoch 3: val_accuracy did not improve from 0.95652\n",
      "\u001b[1m6/6\u001b[0m \u001b[32m━━━━━━━━━━━━━━━━━━━━\u001b[0m\u001b[37m\u001b[0m \u001b[1m23s\u001b[0m 4s/step - accuracy: 0.4491 - loss: 1.0435 - val_accuracy: 0.8261 - val_loss: 0.9224\n",
      "Epoch 4/20\n",
      "\u001b[1m6/6\u001b[0m \u001b[32m━━━━━━━━━━━━━━━━━━━━\u001b[0m\u001b[37m\u001b[0m \u001b[1m0s\u001b[0m 3s/step - accuracy: 0.4285 - loss: 1.0193\n",
      "Epoch 4: val_accuracy did not improve from 0.95652\n",
      "\u001b[1m6/6\u001b[0m \u001b[32m━━━━━━━━━━━━━━━━━━━━\u001b[0m\u001b[37m\u001b[0m \u001b[1m24s\u001b[0m 4s/step - accuracy: 0.4342 - loss: 1.0170 - val_accuracy: 0.7826 - val_loss: 0.9199\n",
      "Epoch 5/20\n",
      "\u001b[1m6/6\u001b[0m \u001b[32m━━━━━━━━━━━━━━━━━━━━\u001b[0m\u001b[37m\u001b[0m \u001b[1m0s\u001b[0m 3s/step - accuracy: 0.5385 - loss: 0.9278\n",
      "Epoch 5: val_accuracy did not improve from 0.95652\n",
      "\u001b[1m6/6\u001b[0m \u001b[32m━━━━━━━━━━━━━━━━━━━━\u001b[0m\u001b[37m\u001b[0m \u001b[1m26s\u001b[0m 4s/step - accuracy: 0.5330 - loss: 0.9321 - val_accuracy: 0.7391 - val_loss: 0.9019\n",
      "Epoch 6/20\n",
      "\u001b[1m6/6\u001b[0m \u001b[32m━━━━━━━━━━━━━━━━━━━━\u001b[0m\u001b[37m\u001b[0m \u001b[1m0s\u001b[0m 3s/step - accuracy: 0.5174 - loss: 0.9769\n",
      "Epoch 6: val_accuracy did not improve from 0.95652\n",
      "\u001b[1m6/6\u001b[0m \u001b[32m━━━━━━━━━━━━━━━━━━━━\u001b[0m\u001b[37m\u001b[0m \u001b[1m24s\u001b[0m 4s/step - accuracy: 0.5149 - loss: 0.9776 - val_accuracy: 0.7826 - val_loss: 0.8755\n",
      "Epoch 7/20\n",
      "\u001b[1m6/6\u001b[0m \u001b[32m━━━━━━━━━━━━━━━━━━━━\u001b[0m\u001b[37m\u001b[0m \u001b[1m0s\u001b[0m 3s/step - accuracy: 0.6290 - loss: 0.9187\n",
      "Epoch 7: val_accuracy did not improve from 0.95652\n",
      "\u001b[1m6/6\u001b[0m \u001b[32m━━━━━━━━━━━━━━━━━━━━\u001b[0m\u001b[37m\u001b[0m \u001b[1m27s\u001b[0m 5s/step - accuracy: 0.6269 - loss: 0.9222 - val_accuracy: 0.7826 - val_loss: 0.8504\n",
      "Epoch 7: early stopping\n",
      "Restoring model weights from the end of the best epoch: 2.\n"
     ]
    }
   ],
   "source": [
    "model.compile(\n",
    "    optimizer='adam',\n",
    "    loss='categorical_crossentropy', \n",
    "    metrics=['accuracy']\n",
    ")\n",
    "\n",
    "\n",
    "history = model.fit(\n",
    "    train_gen,\n",
    "    validation_data=val_gen,\n",
    "    epochs=20,\n",
    "    callbacks=[checkpoint, early_stop]\n",
    ")\n"
   ]
  },
  {
   "cell_type": "code",
   "execution_count": 48,
   "id": "9867bf97-d645-46cf-bef9-9ea022bdff3b",
   "metadata": {},
   "outputs": [
    {
     "name": "stdout",
     "output_type": "stream",
     "text": [
      "\u001b[1m2/2\u001b[0m \u001b[32m━━━━━━━━━━━━━━━━━━━━\u001b[0m\u001b[37m\u001b[0m \u001b[1m4s\u001b[0m 2s/step\n",
      "                       precision    recall  f1-score   support\n",
      "\n",
      "Bacterial leaf blight       1.00      1.00      1.00         8\n",
      "           Brown spot       1.00      0.75      0.86         8\n",
      "            Leaf smut       0.78      1.00      0.88         7\n",
      "\n",
      "             accuracy                           0.91        23\n",
      "            macro avg       0.93      0.92      0.91        23\n",
      "         weighted avg       0.93      0.91      0.91        23\n",
      "\n"
     ]
    },
    {
     "data": {
      "image/png": "[encoded data removed]",
      "text/plain": [
       "<Figure size 640x480 with 2 Axes>"
      ]
     },
     "metadata": {},
     "output_type": "display_data"
    }
   ],
   "source": [
    "y_true = val_gen.classes\n",
    "y_pred_probs = model.predict(val_gen)\n",
    "y_pred = np.argmax(y_pred_probs, axis=1)\n",
    "\n",
    "print(classification_report(y_true, y_pred, target_names=val_gen.class_indices.keys()))\n",
    "\n",
    "cm = confusion_matrix(y_true, y_pred)\n",
    "sns.heatmap(cm, annot=True, fmt='d', cmap='Blues', xticklabels=val_gen.class_indices.keys(), yticklabels=val_gen.class_indices.keys())\n",
    "plt.xlabel('Predicted')\n",
    "plt.ylabel('True')\n",
    "plt.title('Confusion Matrix')\n",
    "plt.show()\n"
   ]
  },
  {
   "cell_type": "code",
   "execution_count": null,
   "id": "a010d94b-6e8f-49c7-991c-548d871e8725",
   "metadata": {},
   "outputs": [],
   "source": []
  }
 ],
 "metadata": {
  "kernelspec": {
   "display_name": "Python [conda env:base] *",
   "language": "python",
   "name": "conda-base-py"
  },
  "language_info": {
   "codemirror_mode": {
    "name": "ipython",
    "version": 3
   },
   "file_extension": ".py",
   "mimetype": "text/x-python",
   "name": "python",
   "nbconvert_exporter": "python",
   "pygments_lexer": "ipython3",
   "version": "3.12.7"
  }
 },
 "nbformat": 4,
 "nbformat_minor": 5
}
